{
 "cells": [
  {
   "cell_type": "markdown",
   "id": "85667eda-8df1-4f4d-8472-b87cff7de457",
   "metadata": {},
   "source": [
    "# Mapping the 2021 La Palma *Cumbre Vieja* Eruption"
   ]
  },
  {
   "cell_type": "code",
   "execution_count": 4,
   "id": "4d5feb2b-f122-4d59-aa6f-1db6ee9754f1",
   "metadata": {},
   "outputs": [],
   "source": [
    "import matplotlib.pyplot as plt\n",
    "from ipywidgets import interact\n",
    "\n",
    "import lplm_geoprocessing as lpgeo\n",
    "import lplm_io as lpio\n",
    "import lplm_presentation as lpp\n",
    "import lplm_utils"
   ]
  },
  {
   "cell_type": "code",
   "execution_count": 72,
   "id": "1e9d7b97-01fa-4888-a77f-2436b8b70871",
   "metadata": {},
   "outputs": [
    {
     "data": {
      "text/plain": [
       "<module 'lplm_utils' from '/home/jovyan/lplm/lplm_utils.py'>"
      ]
     },
     "execution_count": 72,
     "metadata": {},
     "output_type": "execute_result"
    }
   ],
   "source": [
    "# TODO: remove when not needed\n",
    "import importlib\n",
    "importlib.reload(lpgeo)\n",
    "importlib.reload(lpio)\n",
    "importlib.reload(lpp)\n",
    "importlib.reload(lplm_utils)"
   ]
  },
  {
   "cell_type": "markdown",
   "id": "0a449938-7ddf-4a1e-8a45-52610b8f4506",
   "metadata": {},
   "source": [
    "Start our journey..."
   ]
  },
  {
   "cell_type": "code",
   "execution_count": 3,
   "id": "6f048875-56c9-4993-a182-18a832333558",
   "metadata": {},
   "outputs": [],
   "source": [
    "# Center needs to be passed in as EPSG:4326 regardless of desired map CRS. \n",
    "map_center = ( (28.58 + 28.65) / 2, (-17.97 + -17.84) / 2)\n",
    " \n",
    "from sidecar import Sidecar\n",
    "from ipyleaflet import Map, LayersControl, projections\n",
    "lp_map = Map(\n",
    "    center=map_center,\n",
    "    zoom=13,\n",
    "    crs=projections.EPSG3857,\n",
    "    scroll_wheel_zoom=True)\n",
    "lp_map.add_control(LayersControl())\n",
    "sc = Sidecar()\n",
    "with sc:\n",
    "    display(lp_map)"
   ]
  },
  {
   "cell_type": "markdown",
   "id": "a29e9218-e0eb-462f-aa45-e2c390fa1316",
   "metadata": {},
   "source": [
    "Load the image stack."
   ]
  },
  {
   "cell_type": "code",
   "execution_count": 4,
   "id": "0e4a6832-4f99-40db-99a8-f6499920a166",
   "metadata": {},
   "outputs": [],
   "source": [
    "xds_grd = lpio.load_series(\"data\")"
   ]
  },
  {
   "cell_type": "markdown",
   "id": "81e8d1eb-e6c5-44fa-b24e-ef3b663e91ce",
   "metadata": {},
   "source": [
    "## ❔ Choose an image\n",
    "\n",
    "Inspect the images, and choose one to perform the analysis on."
   ]
  },
  {
   "cell_type": "code",
   "execution_count": 5,
   "id": "9685e87e-825d-4853-9aae-5e1ebc67758c",
   "metadata": {},
   "outputs": [
    {
     "data": {
      "application/vnd.jupyter.widget-view+json": {
       "model_id": "b0f3bd0a15b54716b18c469f3b3d2d6f",
       "version_major": 2,
       "version_minor": 0
      },
      "text/plain": [
       "interactive(children=(Dropdown(description='date', options=(('2021-09-10', numpy.datetime64('2021-09-10T00:00:…"
      ]
     },
     "metadata": {},
     "output_type": "display_data"
    },
    {
     "data": {
      "text/plain": [
       "<function __main__.view_scene(date)>"
      ]
     },
     "execution_count": 5,
     "metadata": {},
     "output_type": "execute_result"
    }
   ],
   "source": [
    "plt.rcParams[\"figure.figsize\"] = (12,8)\n",
    "plt.rcParams[\"figure.dpi\"] = 100\n",
    "\n",
    "def view_scene(date):\n",
    "    # Use this date for the rest of the notebook\n",
    "    global selected_date \n",
    "    selected_date = date\n",
    "    \n",
    "    xds_grd.sel(date=date).plot(cmap=\"gray\")\n",
    "    \n",
    "interact(view_scene, date=lpp.get_date_labels(xds_grd))"
   ]
  },
  {
   "cell_type": "markdown",
   "id": "d2eaf352-55bc-44a9-a234-7c179e7128f0",
   "metadata": {},
   "source": [
    "Add this to the map."
   ]
  },
  {
   "cell_type": "code",
   "execution_count": 6,
   "id": "0371a1a0-d179-44b2-96a5-9b7baff7c15d",
   "metadata": {},
   "outputs": [
    {
     "name": "stderr",
     "output_type": "stream",
     "text": [
      "Warning 1: +init=epsg:XXXX syntax is deprecated. It might return a CRS with a non-EPSG compliant axis order.\n"
     ]
    }
   ],
   "source": [
    "from ipyleaflet import ImageOverlay\n",
    "import base64\n",
    "\n",
    "layer_sar = lpp.make_sar_layer(xds_grd, selected_date)\n",
    "lp_map.add_layer(layer_sar)"
   ]
  },
  {
   "cell_type": "markdown",
   "id": "b1d7eebd-5543-48a6-9dca-2d3f55736327",
   "metadata": {},
   "source": [
    "## Segmentation\n",
    "\n",
    "SLIC"
   ]
  },
  {
   "cell_type": "code",
   "execution_count": 7,
   "id": "a6ceffb1-a823-43c8-8720-e51d64603f7b",
   "metadata": {},
   "outputs": [],
   "source": [
    "lpgeo.apply_segmentation(xds_grd, selected_date)"
   ]
  },
  {
   "cell_type": "code",
   "execution_count": 8,
   "id": "33de33a9-aa18-4503-96c6-40ae1b72df82",
   "metadata": {},
   "outputs": [],
   "source": [
    "gdf = lpgeo.vectorize_segments(xds_grd)"
   ]
  },
  {
   "cell_type": "markdown",
   "id": "b64eaa3a-04a0-48e3-bbce-2717d44e7963",
   "metadata": {},
   "source": [
    "Display the result."
   ]
  },
  {
   "cell_type": "code",
   "execution_count": 9,
   "id": "4d7e96a6-dfbd-4226-8e49-d3c01dba4296",
   "metadata": {},
   "outputs": [],
   "source": [
    "# This may take a little while.\n",
    "from ipyleaflet import GeoData\n",
    "# Have to convert to EPSG:4326 first, despite map CRS.\n",
    "layer_seg = GeoData(\n",
    "    geo_dataframe = gdf.to_crs(\"EPSG:4326\"),\n",
    "    style = { \"fillOpacity\": 0.0, \"weight\": 1.0 },\n",
    "    name = \"Segments\")\n",
    "lp_map.add_layer(layer_seg)"
   ]
  },
  {
   "cell_type": "markdown",
   "id": "a6f90959-a156-418b-846f-7d827069ab7d",
   "metadata": {},
   "source": [
    "## Analysis, Part 1\n",
    "Calculate statistical features of segments, and from those derive initial lava-likeness metrics."
   ]
  },
  {
   "cell_type": "code",
   "execution_count": 10,
   "id": "93aa4cb1-9518-48f1-9b91-df902b21b3af",
   "metadata": {},
   "outputs": [],
   "source": [
    "xds_segstats = lpgeo.segment_stats(xds_grd)"
   ]
  },
  {
   "cell_type": "code",
   "execution_count": 11,
   "id": "76a5cea8-48e3-4dba-a5d7-c7f162e92ba6",
   "metadata": {},
   "outputs": [],
   "source": [
    "lpgeo.enrich(gdf, xds_segstats, selected_date)"
   ]
  },
  {
   "cell_type": "code",
   "execution_count": 12,
   "id": "b90bdbcc-21c5-40c7-99d0-91c0ab58b519",
   "metadata": {},
   "outputs": [],
   "source": [
    "from ipyleaflet import Choropleth\n",
    "from branca.colormap import linear\n",
    "import json\n",
    "\n",
    "# lp_map.remove(layer_seg)\n",
    "\n",
    "layer_enriched = lpp.make_feature_layer(gdf, \"local_lava_likeness\")\n",
    "\n",
    "lp_map.add_layer(layer_enriched)\n"
   ]
  },
  {
   "cell_type": "markdown",
   "id": "de716be2-e7d4-419f-ae4e-9cf9d81ceaab",
   "metadata": {},
   "source": [
    "## Analysis, Part 2\n",
    "Now we apply some neighbourhood-based operations to estimate the lava field."
   ]
  },
  {
   "cell_type": "markdown",
   "id": "226aa75b-1cce-44ab-a524-be09735178f7",
   "metadata": {},
   "source": [
    "### ❔ Choose a starting point\n",
    "\n",
    "Choose a starting point to seed the region-growing algorithm - ideally somewhere clearly in the lava field."
   ]
  },
  {
   "cell_type": "code",
   "execution_count": 13,
   "id": "f0a3eb81-cc6a-4909-83c5-72908af438e0",
   "metadata": {},
   "outputs": [],
   "source": [
    "from ipyleaflet import Marker\n",
    "marker = Marker(location=map_center, draggable=True, name=\"Start\")\n",
    "lp_map.add_layer(marker)"
   ]
  },
  {
   "cell_type": "markdown",
   "id": "aff94911-0bc1-44a3-8a42-98584ef2ebd3",
   "metadata": {},
   "source": [
    "Find the matching segment."
   ]
  },
  {
   "cell_type": "code",
   "execution_count": 14,
   "id": "c0071ae3-bf88-4cdb-8e40-b217a86916d0",
   "metadata": {},
   "outputs": [],
   "source": [
    "from pyproj import Transformer\n",
    "t = Transformer.from_crs(\"epsg:4326\", \"epsg:3857\")\n",
    "start_x, start_y = t.transform(marker.location[0], marker.location[1])\n",
    "start_segment_id = lpgeo.get_segment_id(gdf, start_x, start_y)"
   ]
  },
  {
   "cell_type": "markdown",
   "id": "f2d454b2-b51f-4019-abca-a08b559bf88b",
   "metadata": {},
   "source": [
    "Now, estimate the lava region."
   ]
  },
  {
   "cell_type": "code",
   "execution_count": 15,
   "id": "46829bc2-4bfd-40da-a6ea-2a9316c51c0f",
   "metadata": {},
   "outputs": [],
   "source": [
    "# TODO: Fix warnings for this:\n",
    "import warnings\n",
    "warnings.filterwarnings('ignore')\n",
    "lpgeo.lava_likeness_overall(gdf, start_segment_id)\n",
    "\n",
    "gdf_lava_est = lpgeo.extract_lava_region(gdf, start_segment_id)"
   ]
  },
  {
   "cell_type": "markdown",
   "id": "ad016329-c7d4-48b1-8a66-79601f6203cc",
   "metadata": {},
   "source": [
    "Show the results."
   ]
  },
  {
   "cell_type": "code",
   "execution_count": 16,
   "id": "6f17ecff-bdde-4761-a40d-b8e58e228b5e",
   "metadata": {},
   "outputs": [],
   "source": [
    "layer_neigh_ll = lpp.make_feature_layer(gdf, \"neighbourhood_lava_likeness\")\n",
    "\n",
    "layer_lava = GeoData(\n",
    "    geo_dataframe = gdf_lava_est.to_crs(\"EPSG:4326\"),\n",
    "    style = { \"fillOpacity\": 1.0, \"weight\": 1.0, \"fillColor\": \"orange\" },\n",
    "    name = \"Estimated lava field\")\n",
    "\n",
    "lp_map.add_layer(layer_neigh_ll)\n",
    "lp_map.add_layer(layer_lava)"
   ]
  },
  {
   "cell_type": "markdown",
   "id": "8bb85cdd-90fc-455b-979b-9fcfde95e3e2",
   "metadata": {},
   "source": [
    "The Copernicus Emergency Rapid Mapping service provided maps through the course of the eruption. These were created with the aid of high resolution sources of various types, such as [COSMO-SkyMed](https://earth.esa.int/eogateway/missions/cosmo-skymed), a high resolution X-band SAR mission. See the [event page](https://emergency.copernicus.eu/mapping/ems/volcano-eruption-la-palma-spain) for further details. With a few of these as a reference, let's compare our results... "
   ]
  },
  {
   "cell_type": "code",
   "execution_count": 82,
   "id": "4e423a7a-bd88-41c2-95d9-1cd0e4fcbe2a",
   "metadata": {},
   "outputs": [
    {
     "data": {
      "application/vnd.jupyter.widget-view+json": {
       "model_id": "659ea820773644578aa61570c094cd55",
       "version_major": 2,
       "version_minor": 0
      },
      "text/plain": [
       "interactive(children=(Dropdown(description='ems_map_date', options=('2021-11-15', '2021-11-21', '2021-12-18'),…"
      ]
     },
     "metadata": {},
     "output_type": "display_data"
    },
    {
     "data": {
      "text/plain": [
       "<function __main__.show_ems_layer(ems_map_date)>"
      ]
     },
     "execution_count": 82,
     "metadata": {},
     "output_type": "execute_result"
    }
   ],
   "source": [
    "ems_maps = {\n",
    "    \"2021-11-15\": geopandas.read_file(\"ems-reference/EMSR546_AOI01_GRA_MONIT52_observedEventA_r1_v1.shp\"),\n",
    "    \"2021-11-21\": geopandas.read_file(\"ems-reference/EMSR546_AOI01_GRA_MONIT53_observedEventA_r1_v1.shp\"),\n",
    "    \"2021-12-18\": geopandas.read_file(\"ems-reference/EMSR546_AOI01_GRA_MONIT63_observedEventA_r1_v1.shp\"),\n",
    "}\n",
    "\n",
    "def ems_layer_name(key):\n",
    "    return f\"EMS Rapid Mapping @ {key}\"\n",
    "\n",
    "def make_ems_layer(key):\n",
    "    layer = GeoData(\n",
    "        geo_dataframe = ems_maps[key].to_crs(\"EPSG:4326\"),\n",
    "        style = { \"fillOpacity\": 0.0, \"weight\": 1.0, \"color\": \"red\" },\n",
    "        name = ems_layer_name(key))\n",
    "    return layer\n",
    "\n",
    "layers_ems = {}\n",
    "\n",
    "for key in ems_maps.keys():\n",
    "    layers_ems[key] = make_ems_layer(key)\n",
    "\n",
    "def show_ems_layer(ems_map_date):\n",
    "    global selected_ems\n",
    "    existing = lpp.find_layers(lp_map, ems_layer_name(selected_ems))\n",
    "    for l in existing:\n",
    "        lp_map.remove(l)\n",
    "    lp_map.add_layer(layers_ems[ems_map_date])\n",
    "    selected_ems = ems_map_date\n",
    "    return None\n",
    "    \n",
    "interact(show_ems_layer, ems_map_date=ems_maps.keys())"
   ]
  },
  {
   "cell_type": "code",
   "execution_count": null,
   "id": "c77656aa-b7b6-4a9e-8fe5-678183660190",
   "metadata": {},
   "outputs": [],
   "source": []
  }
 ],
 "metadata": {
  "interpreter": {
   "hash": "9650cb4e16cdd4a8e8e2d128bf38d875813998db22a3c986335f89e0cb4d7bb2"
  },
  "kernelspec": {
   "display_name": "Python 3 (ipykernel)",
   "language": "python",
   "name": "python3"
  },
  "language_info": {
   "codemirror_mode": {
    "name": "ipython",
    "version": 3
   },
   "file_extension": ".py",
   "mimetype": "text/x-python",
   "name": "python",
   "nbconvert_exporter": "python",
   "pygments_lexer": "ipython3",
   "version": "3.9.13"
  }
 },
 "nbformat": 4,
 "nbformat_minor": 5
}
