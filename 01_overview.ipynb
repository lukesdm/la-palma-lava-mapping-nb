{
 "cells": [
  {
   "cell_type": "markdown",
   "id": "85667eda-8df1-4f4d-8472-b87cff7de457",
   "metadata": {},
   "source": [
    "# Mapping the 2021 La Palma *Cumbre Vieja* Eruption"
   ]
  },
  {
   "cell_type": "code",
   "execution_count": 1,
   "id": "4d5feb2b-f122-4d59-aa6f-1db6ee9754f1",
   "metadata": {},
   "outputs": [],
   "source": [
    "import matplotlib.pyplot as plt\n",
    "from ipywidgets import interact\n",
    "\n",
    "import lplm_geoprocessing as lpgeo\n",
    "import lplm_io as lpio\n",
    "import lplm_presentation as lpp\n",
    "import lplm_utils\n",
    "\n",
    "# TODO: remove when not needed.\n",
    "import xarray\n",
    "import numpy"
   ]
  },
  {
   "cell_type": "code",
   "execution_count": 60,
   "id": "1e9d7b97-01fa-4888-a77f-2436b8b70871",
   "metadata": {},
   "outputs": [
    {
     "data": {
      "text/plain": [
       "<module 'lplm_utils' from '/home/jovyan/lplm/lplm_utils.py'>"
      ]
     },
     "execution_count": 60,
     "metadata": {},
     "output_type": "execute_result"
    }
   ],
   "source": [
    "# TODO: remove when not needed\n",
    "import importlib\n",
    "importlib.reload(lpgeo)\n",
    "importlib.reload(lpio)\n",
    "importlib.reload(lpp)\n",
    "importlib.reload(lplm_utils)"
   ]
  },
  {
   "cell_type": "markdown",
   "id": "0a449938-7ddf-4a1e-8a45-52610b8f4506",
   "metadata": {},
   "source": [
    "Start our journey...\n",
    "\n",
    "Note: Mouse wheel scroll doesn't zoom - use double-click (zoom in) and shift & double-click (zoom-out) instead."
   ]
  },
  {
   "cell_type": "code",
   "execution_count": 28,
   "id": "6f048875-56c9-4993-a182-18a832333558",
   "metadata": {},
   "outputs": [],
   "source": [
    "# Center needs to be passed in as EPSG:4326 regardless of desired map CRS. \n",
    "map_center = ( (28.58 + 28.65) / 2, (-17.97 + -17.84) / 2)\n",
    " \n",
    "from sidecar import Sidecar\n",
    "from ipyleaflet import Map, LayersControl, projections\n",
    "lp_map = Map(center=map_center, zoom=13, crs=projections.EPSG3857)\n",
    "lp_map.add_control(LayersControl())\n",
    "sc = Sidecar()\n",
    "with sc:\n",
    "    display(lp_map)"
   ]
  },
  {
   "cell_type": "markdown",
   "id": "a29e9218-e0eb-462f-aa45-e2c390fa1316",
   "metadata": {},
   "source": [
    "## Load the image stack and choose a date"
   ]
  },
  {
   "cell_type": "code",
   "execution_count": 29,
   "id": "0e4a6832-4f99-40db-99a8-f6499920a166",
   "metadata": {},
   "outputs": [],
   "source": [
    "xds_grd = lpio.load_series(\"data\")"
   ]
  },
  {
   "cell_type": "code",
   "execution_count": 30,
   "id": "9685e87e-825d-4853-9aae-5e1ebc67758c",
   "metadata": {},
   "outputs": [
    {
     "data": {
      "application/vnd.jupyter.widget-view+json": {
       "model_id": "57b64544e8ff4c5ba15f2aaee0875685",
       "version_major": 2,
       "version_minor": 0
      },
      "text/plain": [
       "interactive(children=(Dropdown(description='date', options=(('2021-09-10', numpy.datetime64('2021-09-10T00:00:…"
      ]
     },
     "metadata": {},
     "output_type": "display_data"
    },
    {
     "data": {
      "text/plain": [
       "<function __main__.view_scene(date)>"
      ]
     },
     "execution_count": 30,
     "metadata": {},
     "output_type": "execute_result"
    }
   ],
   "source": [
    "plt.rcParams[\"figure.figsize\"] = (12,8)\n",
    "plt.rcParams[\"figure.dpi\"] = 100\n",
    "\n",
    "def view_scene(date):\n",
    "    # Use this date for the rest of the notebook\n",
    "    global selected_date \n",
    "    selected_date = date\n",
    "    \n",
    "    xds_grd.sel(date=date).plot(cmap=\"gray\")\n",
    "    \n",
    "interact(view_scene, date=lpp.get_date_labels(xds_grd))"
   ]
  },
  {
   "cell_type": "markdown",
   "id": "d2eaf352-55bc-44a9-a234-7c179e7128f0",
   "metadata": {},
   "source": [
    "Add this to the map."
   ]
  },
  {
   "cell_type": "code",
   "execution_count": 61,
   "id": "0371a1a0-d179-44b2-96a5-9b7baff7c15d",
   "metadata": {},
   "outputs": [],
   "source": [
    "from ipyleaflet import ImageOverlay\n",
    "import base64\n",
    "\n",
    "layer_sar = lpp.make_sar_layer(xds_grd, selected_date)\n",
    "lp_map.add_layer(layer_sar)"
   ]
  },
  {
   "cell_type": "markdown",
   "id": "b1d7eebd-5543-48a6-9dca-2d3f55736327",
   "metadata": {},
   "source": [
    "## Segmentation\n",
    "\n",
    "SLIC"
   ]
  },
  {
   "cell_type": "code",
   "execution_count": 36,
   "id": "a6ceffb1-a823-43c8-8720-e51d64603f7b",
   "metadata": {},
   "outputs": [],
   "source": [
    "lpgeo.apply_segmentation(xds_grd, selected_date)"
   ]
  },
  {
   "cell_type": "code",
   "execution_count": 37,
   "id": "33de33a9-aa18-4503-96c6-40ae1b72df82",
   "metadata": {},
   "outputs": [],
   "source": [
    "gdf = lpgeo.vectorize_segments(xds_grd)"
   ]
  },
  {
   "cell_type": "code",
   "execution_count": null,
   "id": "e9b27cad-260a-4c7c-a345-e884456d4836",
   "metadata": {},
   "outputs": [],
   "source": []
  },
  {
   "cell_type": "markdown",
   "id": "b64eaa3a-04a0-48e3-bbce-2717d44e7963",
   "metadata": {},
   "source": [
    "Display the result."
   ]
  },
  {
   "cell_type": "code",
   "execution_count": 62,
   "id": "4d7e96a6-dfbd-4226-8e49-d3c01dba4296",
   "metadata": {},
   "outputs": [],
   "source": [
    "# This may take a little while.\n",
    "from ipyleaflet import GeoData\n",
    "# Have to convert to EPSG:4326 first, despite map CRS.\n",
    "layer_seg = GeoData(\n",
    "    geo_dataframe = gdf.to_crs(\"EPSG:4326\"),\n",
    "    style = { \"fillOpacity\": 0.0, \"weight\": 1.0 },\n",
    "    name = \"Segments\")\n",
    "lp_map.add_layer(layer_seg)"
   ]
  },
  {
   "cell_type": "markdown",
   "id": "a6f90959-a156-418b-846f-7d827069ab7d",
   "metadata": {},
   "source": [
    "## Analysis, Part 1\n",
    "Calculate statistical features of segments, and from those derive initial lava-likeness metrics."
   ]
  },
  {
   "cell_type": "code",
   "execution_count": 75,
   "id": "93aa4cb1-9518-48f1-9b91-df902b21b3af",
   "metadata": {},
   "outputs": [],
   "source": [
    "xds_segstats = lpgeo.segment_stats(xds_grd)"
   ]
  },
  {
   "cell_type": "code",
   "execution_count": 76,
   "id": "76a5cea8-48e3-4dba-a5d7-c7f162e92ba6",
   "metadata": {},
   "outputs": [],
   "source": [
    "lpgeo.enrich(gdf, xds_segstats, selected_date)"
   ]
  },
  {
   "cell_type": "code",
   "execution_count": 147,
   "id": "b90bdbcc-21c5-40c7-99d0-91c0ab58b519",
   "metadata": {},
   "outputs": [],
   "source": [
    "from ipyleaflet import Choropleth\n",
    "from branca.colormap import linear\n",
    "import json\n",
    "# TODO: Map of lava likeness.\n",
    "# lp_map.remove(layer_seg)\n",
    "\n",
    "# Prepare geojson input for ipyleaflet's wacky choropleth interface.\n",
    "# Thanks to Abdishakur, https://towardsdatascience.com/ipyleaflet-interactive-mapping-in-jupyter-notebook-994f19611e79\n",
    "geojson = json.loads(gdf.loc[:, [\"segment_id\", \"geometry\"]].to_crs(\"EPSG:4326\").to_json())\n",
    "for feature in geojson[\"features\"]:\n",
    "    properties = feature[\"properties\"]\n",
    "    feature.update(id=properties[\"segment_id\"])\n",
    "\n",
    "layer_enriched = Choropleth(\n",
    "    geo_data = geojson,\n",
    "    choro_data = gdf[\"mean\"].to_dict(),\n",
    "    colormap=linear.viridis,\n",
    "    style = { \"fillOpacity\": 0.5, \"weight\": 1.0 },\n",
    "    name=\"Segment mean\"\n",
    ")\n",
    "lp_map.add_layer(layer_enriched)\n"
   ]
  },
  {
   "cell_type": "code",
   "execution_count": null,
   "id": "b6783769-a488-41ea-ab89-3c713e706915",
   "metadata": {},
   "outputs": [],
   "source": []
  },
  {
   "cell_type": "markdown",
   "id": "de716be2-e7d4-419f-ae4e-9cf9d81ceaab",
   "metadata": {},
   "source": [
    "## Analysis, Part 2\n",
    "Now apply some neighbourhood-based operations to estimate the lava field."
   ]
  },
  {
   "cell_type": "code",
   "execution_count": null,
   "id": "6b94ccc3-713e-4c5c-a455-089ff5cd9fb7",
   "metadata": {},
   "outputs": [],
   "source": []
  },
  {
   "cell_type": "markdown",
   "id": "226aa75b-1cce-44ab-a524-be09735178f7",
   "metadata": {},
   "source": [
    "Choose a starting point - ideally somewhere clearly in the lava field."
   ]
  },
  {
   "cell_type": "code",
   "execution_count": 45,
   "id": "f0a3eb81-cc6a-4909-83c5-72908af438e0",
   "metadata": {},
   "outputs": [],
   "source": [
    "from ipyleaflet import Marker\n",
    "marker = Marker(location=map_center, draggable=True)\n",
    "lp_map.add_layer(marker)"
   ]
  },
  {
   "cell_type": "code",
   "execution_count": null,
   "id": "46829bc2-4bfd-40da-a6ea-2a9316c51c0f",
   "metadata": {},
   "outputs": [],
   "source": []
  }
 ],
 "metadata": {
  "interpreter": {
   "hash": "9650cb4e16cdd4a8e8e2d128bf38d875813998db22a3c986335f89e0cb4d7bb2"
  },
  "kernelspec": {
   "display_name": "Python 3 (ipykernel)",
   "language": "python",
   "name": "python3"
  },
  "language_info": {
   "codemirror_mode": {
    "name": "ipython",
    "version": 3
   },
   "file_extension": ".py",
   "mimetype": "text/x-python",
   "name": "python",
   "nbconvert_exporter": "python",
   "pygments_lexer": "ipython3",
   "version": "3.9.13"
  }
 },
 "nbformat": 4,
 "nbformat_minor": 5
}
