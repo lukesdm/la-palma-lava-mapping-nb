{
 "cells": [
  {
   "cell_type": "markdown",
   "id": "85667eda-8df1-4f4d-8472-b87cff7de457",
   "metadata": {},
   "source": [
    "# Mapping the 2021 La Palma *Cumbre Vieja* Eruption"
   ]
  },
  {
   "cell_type": "code",
   "execution_count": 1,
   "id": "4d5feb2b-f122-4d59-aa6f-1db6ee9754f1",
   "metadata": {},
   "outputs": [],
   "source": [
    "import matplotlib.pyplot as plt\n",
    "from ipywidgets import interact\n",
    "\n",
    "import lplm_geoprocessing as lpgeo\n",
    "import lplm_io as lpio\n",
    "import lplm_presentation as lpp\n",
    "import lplm_utils as lpu\n",
    "import lplm_eda as lpe"
   ]
  },
  {
   "cell_type": "code",
   "execution_count": 2,
   "id": "1e9d7b97-01fa-4888-a77f-2436b8b70871",
   "metadata": {},
   "outputs": [
    {
     "data": {
      "text/plain": [
       "<module 'lplm_eda' from '/home/jovyan/lplm/lplm_eda.py'>"
      ]
     },
     "execution_count": 2,
     "metadata": {},
     "output_type": "execute_result"
    }
   ],
   "source": [
    "# Run this to reload custom modules after making changes \n",
    "import importlib\n",
    "importlib.reload(lpgeo)\n",
    "importlib.reload(lpio)\n",
    "importlib.reload(lpp)\n",
    "importlib.reload(lpu)\n",
    "importlib.reload(lpe)"
   ]
  },
  {
   "cell_type": "markdown",
   "id": "0a449938-7ddf-4a1e-8a45-52610b8f4506",
   "metadata": {},
   "source": [
    "Start our journey..."
   ]
  },
  {
   "cell_type": "code",
   "execution_count": 3,
   "id": "6f048875-56c9-4993-a182-18a832333558",
   "metadata": {},
   "outputs": [],
   "source": [
    "# Map inputs needs to be passed in as EPSG:4326 even though map CRS is EPSG:3857. \n",
    "map_center = ( (28.58 + 28.65) / 2, (-17.97 + -17.84) / 2)\n",
    " \n",
    "from sidecar import Sidecar\n",
    "from ipyleaflet import Map, LayersControl, projections\n",
    "lp_map = Map(\n",
    "    center=map_center,\n",
    "    zoom=13,\n",
    "    crs=projections.EPSG3857,\n",
    "    scroll_wheel_zoom=True)\n",
    "lp_map.add_control(LayersControl())\n",
    "sc = Sidecar()\n",
    "with sc:\n",
    "    display(lp_map)"
   ]
  },
  {
   "cell_type": "markdown",
   "id": "a29e9218-e0eb-462f-aa45-e2c390fa1316",
   "metadata": {},
   "source": [
    "Load the image stack."
   ]
  },
  {
   "cell_type": "code",
   "execution_count": 4,
   "id": "0e4a6832-4f99-40db-99a8-f6499920a166",
   "metadata": {},
   "outputs": [],
   "source": [
    "xds_grd = lpio.load_series(\"data\")"
   ]
  },
  {
   "cell_type": "markdown",
   "id": "81e8d1eb-e6c5-44fa-b24e-ef3b663e91ce",
   "metadata": {},
   "source": [
    "## ❔ Choose an image\n",
    "\n",
    "Inspect the images, and choose one to perform the analysis on.\n",
    "\n",
    "Note that '2021-09-10' and '2021-09-16' are pre-event images."
   ]
  },
  {
   "cell_type": "code",
   "execution_count": 5,
   "id": "9685e87e-825d-4853-9aae-5e1ebc67758c",
   "metadata": {},
   "outputs": [
    {
     "data": {
      "application/vnd.jupyter.widget-view+json": {
       "model_id": "12601468a0c94dbe83ffe95e54c00620",
       "version_major": 2,
       "version_minor": 0
      },
      "text/plain": [
       "interactive(children=(Dropdown(description='date', index=10, options=(('2021-09-10', numpy.datetime64('2021-09…"
      ]
     },
     "metadata": {},
     "output_type": "display_data"
    },
    {
     "data": {
      "text/plain": [
       "<function __main__.view_scene(date=Timestamp('2021-11-15 00:00:00'))>"
      ]
     },
     "execution_count": 5,
     "metadata": {},
     "output_type": "execute_result"
    }
   ],
   "source": [
    "plt.rcParams[\"figure.figsize\"] = (12,8)\n",
    "plt.rcParams[\"figure.dpi\"] = 100\n",
    "\n",
    "selected_date = lpu.to_date('2021-11-15')\n",
    "\n",
    "def view_scene(date=selected_date):\n",
    "    # Use this date for the rest of the notebook\n",
    "    global selected_date \n",
    "    \n",
    "    layer_sar = lpp.make_sar_layer(xds_grd, date)\n",
    "    lpp.replace_layer(lp_map, layer_sar, lpp.sar_layer_name(selected_date))\n",
    "    selected_date = date\n",
    "    \n",
    "interact(view_scene, date=lpp.get_date_labels(xds_grd))"
   ]
  },
  {
   "cell_type": "markdown",
   "id": "b1d7eebd-5543-48a6-9dca-2d3f55736327",
   "metadata": {},
   "source": [
    "## Segmentation\n",
    "\n",
    "SLIC"
   ]
  },
  {
   "cell_type": "code",
   "execution_count": 6,
   "id": "4d7e96a6-dfbd-4226-8e49-d3c01dba4296",
   "metadata": {},
   "outputs": [],
   "source": [
    "# This may take a little while.\n",
    "lpgeo.apply_segmentation(xds_grd, selected_date)\n",
    "\n",
    "gdf = lpgeo.vectorize_segments(xds_grd)\n",
    "\n",
    "# Display results\n",
    "from ipyleaflet import GeoData\n",
    "# Have to convert to EPSG:4326 first, despite map CRS.\n",
    "layer_seg = GeoData(\n",
    "    geo_dataframe = gdf.to_crs(\"EPSG:4326\"),\n",
    "    style = { \"fillOpacity\": 0.0, \"weight\": 1.0 },\n",
    "    name = \"Segments\")\n",
    "lpp.replace_layer(lp_map, layer_seg)"
   ]
  },
  {
   "cell_type": "markdown",
   "id": "a6f90959-a156-418b-846f-7d827069ab7d",
   "metadata": {},
   "source": [
    "## Analysis, Part 1\n",
    "\n",
    "TODO: Reorder this - need to explain segmentation first?\n",
    "To begin our attempt at lava classification, we rely on the observation that lava flows grow over time. That means if lava is present in a location on day 1, it will also be present on day 30. The nature, e.g., due to cooling, and volume may change, but should give us a baseline for subsequent measurements. "
   ]
  },
  {
   "cell_type": "markdown",
   "id": "8cc3115f-a838-408e-8c82-e7dc76593814",
   "metadata": {},
   "source": [
    "Enrich - features... "
   ]
  },
  {
   "cell_type": "code",
   "execution_count": 7,
   "id": "d7d6f04c-47d3-4a64-a4c3-bc6c43e56977",
   "metadata": {},
   "outputs": [],
   "source": [
    "# This may take a little while.\n",
    "\n",
    "# TODO: Split up into stats and derived calcs as before. ?\n",
    "\n",
    "xds_segstats = lpgeo.segment_stats(xds_grd)\n",
    "\n",
    "lpgeo.enrich(gdf, xds_segstats, selected_date)\n",
    "\n",
    "layer_enriched = lpp.make_feature_layer(gdf, \"local_lava_likeness\")\n",
    "\n",
    "lpp.replace_layer(lp_map, layer_enriched)"
   ]
  },
  {
   "cell_type": "markdown",
   "id": "2497e0f4-9ed2-4eba-bbce-08a60ee22df5",
   "metadata": {},
   "source": [
    "Sample..."
   ]
  },
  {
   "cell_type": "code",
   "execution_count": 8,
   "id": "6120aadb-6c15-469b-bd78-944c0bd3f484",
   "metadata": {},
   "outputs": [],
   "source": [
    "# Choose sample area\n",
    "from ipyleaflet import Polygon\n",
    "\n",
    "layer_sample_poly = Polygon(\n",
    "    name=\"Sample area - lava\",\n",
    "    locations=[\n",
    "        (28.61279608, -17.90567758),\n",
    "        (28.61279608, -17.88789544),\n",
    "        (28.62486374, -17.88789544),\n",
    "        (28.62486374, -17.90567758)\n",
    "    ], transform=True)\n",
    "\n",
    "lpp.replace_layer(lp_map, layer_sample_poly)\n",
    "\n",
    "# Note: there seems to be a bug in ipyleaflet that leaves the handles after removing or hiding the layer."
   ]
  },
  {
   "cell_type": "markdown",
   "id": "d1bdca8e-4467-4e04-b068-3879ebcaa784",
   "metadata": {},
   "source": [
    "Find matching segments."
   ]
  },
  {
   "cell_type": "code",
   "execution_count": 9,
   "id": "64337142-dd51-4978-815d-2e7425878978",
   "metadata": {},
   "outputs": [],
   "source": [
    "from shapely import geometry\n",
    "\n",
    "# Initial and manually-adjusted polygon have different point data layouts. So have to handle both.\n",
    "try: # SHOULDDO: make this less hacky\n",
    "    shapely_sample_4326 = geometry.Polygon([(pdict[\"lng\"], pdict[\"lat\"]) for pdict in layer_sample_poly.locations[0]])\n",
    "except:\n",
    "    shapely_sample_4326 = geometry.Polygon([(lon, lat) for (lat, lon) in layer_sample_poly.locations])\n",
    "# gds_sample_3857 = geopandas.GeoSeries(shapely_sample_4326, crs=\"EPSG:4326\").to_crs(\"EPSG:3857\")\n",
    "# For some reason, doing the intersection calc in EPSG:3857 doesn't always work - could be the point ordering in the polygon?\n",
    "# So, as a workaround just do it in EPSG:4326.\n",
    "gdf_4326 = gdf.to_crs(\"EPSG:4326\")\n",
    "gdf_sample_4326 = gdf_4326.loc[gdf_4326.intersects(shapely_sample_4326)]\n",
    "\n",
    "# Display the result\n",
    "from ipyleaflet import GeoData\n",
    "layer_sample = GeoData(geo_dataframe=gdf_sample_4326, name=\"Sample segments - lava\")\n",
    "lpp.replace_layer(lp_map, layer_sample)"
   ]
  },
  {
   "cell_type": "markdown",
   "id": "c6110605-738a-49b3-8896-dc643406be69",
   "metadata": {},
   "source": [
    "Pick a few segments from the sample (sub-sample) and inspect their distributions."
   ]
  },
  {
   "cell_type": "code",
   "execution_count": 10,
   "id": "dcea4d09-e57a-4059-95c4-3fd311d7ad5d",
   "metadata": {},
   "outputs": [
    {
     "data": {
      "image/png": "[encoded data removed]",
      "text/plain": [
       "<Figure size 460.8x720 with 12 Axes>"
      ]
     },
     "metadata": {
      "needs_background": "light"
     },
     "output_type": "display_data"
    }
   ],
   "source": [
    "sample_segids = gdf_sample_4326[\"segment_id\"].sample(4).values\n",
    "lpe.plot_segment_histos(xds_grd, sample_segids, selected_date)"
   ]
  },
  {
   "cell_type": "markdown",
   "id": "ce8be0a8-0b3a-4bef-9a36-3ee226c2b3f4",
   "metadata": {},
   "source": [
    "Look at the sample as a whole - the distribution of segment means and standard deviations."
   ]
  },
  {
   "cell_type": "code",
   "execution_count": 11,
   "id": "63b62e2a-31e8-44a7-9b4f-49431e21a62d",
   "metadata": {},
   "outputs": [
    {
     "data": {
      "text/plain": [
       "(0.0, 128.0)"
      ]
     },
     "execution_count": 11,
     "metadata": {},
     "output_type": "execute_result"
    },
    {
     "data": {
      "image/png": "[encoded data removed]",
      "text/plain": [
       "<Figure size 432x288 with 1 Axes>"
      ]
     },
     "metadata": {
      "needs_background": "light"
     },
     "output_type": "display_data"
    }
   ],
   "source": [
    "# TODO: Fix - can't run these together.\n",
    "# gdf_sample_4326[\"mean\"].plot.hist(bins=40, title=\"Lava field segment means\", range=(0,255)); plt.xlabel(\"value\")\n",
    "# gdf_sample_4326[\"mean\"].plot.box(title=\"Lava field segment means\"); plt.ylim(0, 255)\n",
    "# gdf_sample_4326[\"std\"].plot.hist(bins=40, title=\"Lava field segment standard deviations\", range=(0,255)); plt.xlabel(\"value\")\n",
    "gdf_sample_4326[\"std\"].plot.box(title=\"Lava field segment standard deviations\"); plt.ylim(0, 128)"
   ]
  },
  {
   "cell_type": "markdown",
   "id": "096ef8e1-46c6-48d9-99d9-5a7a5985c55c",
   "metadata": {},
   "source": [
    "Compare these with other land cover types... (TODO)"
   ]
  },
  {
   "cell_type": "markdown",
   "id": "1c31f7c0-22eb-4e0c-8855-c13627ce9c75",
   "metadata": {},
   "source": [
    "Calculate statistical features of segments, and from those derive initial lava-likeness metrics."
   ]
  },
  {
   "cell_type": "code",
   "execution_count": null,
   "id": "91c471bd-df6b-494c-839c-33f15fb90aa6",
   "metadata": {},
   "outputs": [],
   "source": []
  },
  {
   "cell_type": "markdown",
   "id": "de716be2-e7d4-419f-ae4e-9cf9d81ceaab",
   "metadata": {},
   "source": [
    "## Analysis, Part 2\n",
    "Now we apply some neighbourhood-based operations to estimate the lava field."
   ]
  },
  {
   "cell_type": "markdown",
   "id": "226aa75b-1cce-44ab-a524-be09735178f7",
   "metadata": {},
   "source": [
    "### ❔ Choose a starting point\n",
    "\n",
    "Choose a starting point to seed the region-growing algorithm - ideally somewhere clearly in the lava field."
   ]
  },
  {
   "cell_type": "code",
   "execution_count": 12,
   "id": "f0a3eb81-cc6a-4909-83c5-72908af438e0",
   "metadata": {},
   "outputs": [],
   "source": [
    "from ipyleaflet import Marker\n",
    "marker = Marker(location=map_center, draggable=True, name=\"Start\")\n",
    "lpp.replace_layer(lp_map, marker)"
   ]
  },
  {
   "cell_type": "markdown",
   "id": "aff94911-0bc1-44a3-8a42-98584ef2ebd3",
   "metadata": {},
   "source": [
    "Find the matching segment."
   ]
  },
  {
   "cell_type": "code",
   "execution_count": 13,
   "id": "c0071ae3-bf88-4cdb-8e40-b217a86916d0",
   "metadata": {},
   "outputs": [],
   "source": [
    "from pyproj import Transformer\n",
    "t = Transformer.from_crs(\"epsg:4326\", \"epsg:3857\")\n",
    "start_x, start_y = t.transform(marker.location[0], marker.location[1])\n",
    "start_segment_id = lpgeo.get_segment_id(gdf, start_x, start_y)"
   ]
  },
  {
   "cell_type": "markdown",
   "id": "f2d454b2-b51f-4019-abca-a08b559bf88b",
   "metadata": {},
   "source": [
    "Now, estimate the lava region."
   ]
  },
  {
   "cell_type": "code",
   "execution_count": 14,
   "id": "46829bc2-4bfd-40da-a6ea-2a9316c51c0f",
   "metadata": {},
   "outputs": [],
   "source": [
    "# TODO: Fix warnings for this:\n",
    "import warnings\n",
    "warnings.filterwarnings('ignore')\n",
    "lpgeo.lava_likeness_overall(gdf, start_segment_id)\n",
    "\n",
    "gdf_lava_est = lpgeo.extract_lava_region(gdf, start_segment_id)"
   ]
  },
  {
   "cell_type": "markdown",
   "id": "ad016329-c7d4-48b1-8a66-79601f6203cc",
   "metadata": {},
   "source": [
    "Show the results."
   ]
  },
  {
   "cell_type": "code",
   "execution_count": 15,
   "id": "6f17ecff-bdde-4761-a40d-b8e58e228b5e",
   "metadata": {},
   "outputs": [],
   "source": [
    "layer_neigh_ll = lpp.make_feature_layer(gdf, \"neighbourhood_lava_likeness\")\n",
    "\n",
    "layer_lava = GeoData(\n",
    "    geo_dataframe = gdf_lava_est.to_crs(\"EPSG:4326\"),\n",
    "    style = { \"fillOpacity\": 1.0, \"weight\": 1.0, \"fillColor\": \"orange\" },\n",
    "    name = \"Estimated lava field\")\n",
    "\n",
    "lpp.replace_layer(lp_map, layer_neigh_ll)\n",
    "lpp.replace_layer(lp_map, layer_lava)"
   ]
  },
  {
   "cell_type": "markdown",
   "id": "8bb85cdd-90fc-455b-979b-9fcfde95e3e2",
   "metadata": {},
   "source": [
    "The Copernicus Emergency Rapid Mapping service provided maps through the course of the eruption. These were created with the aid of high resolution sources of various types, such as [COSMO-SkyMed](https://earth.esa.int/eogateway/missions/cosmo-skymed), a high resolution X-band SAR mission. See the [event page](https://emergency.copernicus.eu/mapping/ems/volcano-eruption-la-palma-spain) for further details. With a few of these as a reference, let's compare our results... "
   ]
  },
  {
   "cell_type": "code",
   "execution_count": 16,
   "id": "4e423a7a-bd88-41c2-95d9-1cd0e4fcbe2a",
   "metadata": {},
   "outputs": [
    {
     "data": {
      "application/vnd.jupyter.widget-view+json": {
       "model_id": "94fe69b25ee240dfaf7ffffa9d06bab3",
       "version_major": 2,
       "version_minor": 0
      },
      "text/plain": [
       "interactive(children=(Dropdown(description='ems_map_date', options=('2021-11-15', '2021-11-21', '2021-12-18'),…"
      ]
     },
     "metadata": {},
     "output_type": "display_data"
    },
    {
     "data": {
      "text/plain": [
       "<function __main__.show_ems_layer(ems_map_date)>"
      ]
     },
     "execution_count": 16,
     "metadata": {},
     "output_type": "execute_result"
    }
   ],
   "source": [
    "import geopandas\n",
    "ems_maps = {\n",
    "    \"2021-11-15\": geopandas.read_file(\"ems-reference/EMSR546_AOI01_GRA_MONIT52_observedEventA_r1_v1.shp\"),\n",
    "    \"2021-11-21\": geopandas.read_file(\"ems-reference/EMSR546_AOI01_GRA_MONIT53_observedEventA_r1_v1.shp\"),\n",
    "    \"2021-12-18\": geopandas.read_file(\"ems-reference/EMSR546_AOI01_GRA_MONIT63_observedEventA_r1_v1.shp\"),\n",
    "}\n",
    "\n",
    "def ems_layer_name(key):\n",
    "    return f\"EMS Rapid Mapping @ {key}\"\n",
    "\n",
    "def make_ems_layer(key):\n",
    "    layer = GeoData(\n",
    "        geo_dataframe = ems_maps[key].to_crs(\"EPSG:4326\"),\n",
    "        style = { \"fillOpacity\": 0.0, \"weight\": 1.0, \"color\": \"red\" },\n",
    "        name = ems_layer_name(key))\n",
    "    return layer\n",
    "\n",
    "layers_ems = {}\n",
    "\n",
    "for key in ems_maps.keys():\n",
    "    layers_ems[key] = make_ems_layer(key)\n",
    "\n",
    "selected_ems = None\n",
    "    \n",
    "def show_ems_layer(ems_map_date):\n",
    "    global selected_ems\n",
    "    lpp.replace_layer(lp_map, layers_ems[ems_map_date], ems_layer_name(selected_ems))\n",
    "    selected_ems = ems_map_date\n",
    "    return None\n",
    "    \n",
    "interact(show_ems_layer, ems_map_date=ems_maps.keys())"
   ]
  },
  {
   "cell_type": "code",
   "execution_count": null,
   "id": "c77656aa-b7b6-4a9e-8fe5-678183660190",
   "metadata": {},
   "outputs": [],
   "source": []
  },
  {
   "cell_type": "code",
   "execution_count": null,
   "id": "60c3f3c6-27b3-4acd-9e28-83074123ae72",
   "metadata": {},
   "outputs": [],
   "source": []
  }
 ],
 "metadata": {
  "interpreter": {
   "hash": "9650cb4e16cdd4a8e8e2d128bf38d875813998db22a3c986335f89e0cb4d7bb2"
  },
  "kernelspec": {
   "display_name": "Python 3 (ipykernel)",
   "language": "python",
   "name": "python3"
  },
  "language_info": {
   "codemirror_mode": {
    "name": "ipython",
    "version": 3
   },
   "file_extension": ".py",
   "mimetype": "text/x-python",
   "name": "python",
   "nbconvert_exporter": "python",
   "pygments_lexer": "ipython3",
   "version": "3.9.13"
  }
 },
 "nbformat": 4,
 "nbformat_minor": 5
}
